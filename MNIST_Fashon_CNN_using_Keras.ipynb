{
 "cells": [
  {
   "cell_type": "markdown",
   "metadata": {},
   "source": [
    "<b> A notebook for the classification of the MNIST fashion dataset.\n",
    "\n",
    "I used Sequential Convolutional Neural Networks (CNN) model using Keras and tensorflow as a backend.\n",
    "\n",
    "\n",
    "\n",
    "Result : |Training Accuracy | Dev(Validation) Accuracy| Testing Accuracy |\n",
    "---------------------------------------------------------------------|\n",
    "         | 92.78 %          | 91.47 %             | 92.00 %          |\n"
   ]
  },
  {
   "cell_type": "code",
   "execution_count": 1,
   "metadata": {},
   "outputs": [],
   "source": [
    "import numpy as np\n",
    "import pandas as pd\n",
    "import datetime\n",
    "import matplotlib.pyplot as plt\n",
    "%matplotlib inline"
   ]
  },
  {
   "cell_type": "code",
   "execution_count": 2,
   "metadata": {},
   "outputs": [
    {
     "name": "stderr",
     "output_type": "stream",
     "text": [
      "Using TensorFlow backend.\n"
     ]
    }
   ],
   "source": [
    "import keras\n",
    "from keras.utils import to_categorical\n",
    "from keras.models import Sequential\n",
    "from keras.layers import Dense,Dropout, Activation, Flatten\n",
    "from keras.layers import Convolution2D, MaxPooling2D\n",
    "from keras.utils import np_utils\n",
    "from keras import backend as K\n",
    "import tensorflow as tf"
   ]
  },
  {
   "cell_type": "code",
   "execution_count": 3,
   "metadata": {},
   "outputs": [
    {
     "data": {
      "text/plain": [
       "'tf'"
      ]
     },
     "execution_count": 3,
     "metadata": {},
     "output_type": "execute_result"
    }
   ],
   "source": [
    "keras.backend.image_dim_ordering()"
   ]
  },
  {
   "cell_type": "code",
   "execution_count": 4,
   "metadata": {
    "collapsed": true
   },
   "outputs": [],
   "source": [
    "batch_size     = 32\n",
    "nb_classes     = 10\n",
    "nb_ephochs     = 50\n",
    "img_rows, img_cols = 28,28\n",
    "nb_filters     = 32\n",
    "pool_size      = 2\n",
    "kernel_size    = 3"
   ]
  },
  {
   "cell_type": "code",
   "execution_count": 5,
   "metadata": {
    "collapsed": true
   },
   "outputs": [],
   "source": [
    "if K.image_dim_ordering() == 'th':\n",
    "    input_shape = (1,img_rows, img_cols)\n",
    "else:\n",
    "    input_shape = (img_rows,img_cols,1)"
   ]
  },
  {
   "cell_type": "code",
   "execution_count": 6,
   "metadata": {},
   "outputs": [],
   "source": [
    "data_train = pd.read_csv('input_data/fashion-mnist_train.csv')\n",
    "data_test = pd.read_csv('input_data/fashion-mnist_test.csv')"
   ]
  },
  {
   "cell_type": "code",
   "execution_count": 7,
   "metadata": {},
   "outputs": [
    {
     "data": {
      "text/html": [
       "<div>\n",
       "<style>\n",
       "    .dataframe thead tr:only-child th {\n",
       "        text-align: right;\n",
       "    }\n",
       "\n",
       "    .dataframe thead th {\n",
       "        text-align: left;\n",
       "    }\n",
       "\n",
       "    .dataframe tbody tr th {\n",
       "        vertical-align: top;\n",
       "    }\n",
       "</style>\n",
       "<table border=\"1\" class=\"dataframe\">\n",
       "  <thead>\n",
       "    <tr style=\"text-align: right;\">\n",
       "      <th></th>\n",
       "      <th>label</th>\n",
       "      <th>pixel1</th>\n",
       "      <th>pixel2</th>\n",
       "      <th>pixel3</th>\n",
       "      <th>pixel4</th>\n",
       "      <th>pixel5</th>\n",
       "      <th>pixel6</th>\n",
       "      <th>pixel7</th>\n",
       "      <th>pixel8</th>\n",
       "      <th>pixel9</th>\n",
       "      <th>...</th>\n",
       "      <th>pixel775</th>\n",
       "      <th>pixel776</th>\n",
       "      <th>pixel777</th>\n",
       "      <th>pixel778</th>\n",
       "      <th>pixel779</th>\n",
       "      <th>pixel780</th>\n",
       "      <th>pixel781</th>\n",
       "      <th>pixel782</th>\n",
       "      <th>pixel783</th>\n",
       "      <th>pixel784</th>\n",
       "    </tr>\n",
       "  </thead>\n",
       "  <tbody>\n",
       "    <tr>\n",
       "      <th>0</th>\n",
       "      <td>2</td>\n",
       "      <td>0</td>\n",
       "      <td>0</td>\n",
       "      <td>0</td>\n",
       "      <td>0</td>\n",
       "      <td>0</td>\n",
       "      <td>0</td>\n",
       "      <td>0</td>\n",
       "      <td>0</td>\n",
       "      <td>0</td>\n",
       "      <td>...</td>\n",
       "      <td>0</td>\n",
       "      <td>0</td>\n",
       "      <td>0</td>\n",
       "      <td>0</td>\n",
       "      <td>0</td>\n",
       "      <td>0</td>\n",
       "      <td>0</td>\n",
       "      <td>0</td>\n",
       "      <td>0</td>\n",
       "      <td>0</td>\n",
       "    </tr>\n",
       "    <tr>\n",
       "      <th>1</th>\n",
       "      <td>9</td>\n",
       "      <td>0</td>\n",
       "      <td>0</td>\n",
       "      <td>0</td>\n",
       "      <td>0</td>\n",
       "      <td>0</td>\n",
       "      <td>0</td>\n",
       "      <td>0</td>\n",
       "      <td>0</td>\n",
       "      <td>0</td>\n",
       "      <td>...</td>\n",
       "      <td>0</td>\n",
       "      <td>0</td>\n",
       "      <td>0</td>\n",
       "      <td>0</td>\n",
       "      <td>0</td>\n",
       "      <td>0</td>\n",
       "      <td>0</td>\n",
       "      <td>0</td>\n",
       "      <td>0</td>\n",
       "      <td>0</td>\n",
       "    </tr>\n",
       "    <tr>\n",
       "      <th>2</th>\n",
       "      <td>6</td>\n",
       "      <td>0</td>\n",
       "      <td>0</td>\n",
       "      <td>0</td>\n",
       "      <td>0</td>\n",
       "      <td>0</td>\n",
       "      <td>0</td>\n",
       "      <td>0</td>\n",
       "      <td>5</td>\n",
       "      <td>0</td>\n",
       "      <td>...</td>\n",
       "      <td>0</td>\n",
       "      <td>0</td>\n",
       "      <td>0</td>\n",
       "      <td>30</td>\n",
       "      <td>43</td>\n",
       "      <td>0</td>\n",
       "      <td>0</td>\n",
       "      <td>0</td>\n",
       "      <td>0</td>\n",
       "      <td>0</td>\n",
       "    </tr>\n",
       "    <tr>\n",
       "      <th>3</th>\n",
       "      <td>0</td>\n",
       "      <td>0</td>\n",
       "      <td>0</td>\n",
       "      <td>0</td>\n",
       "      <td>1</td>\n",
       "      <td>2</td>\n",
       "      <td>0</td>\n",
       "      <td>0</td>\n",
       "      <td>0</td>\n",
       "      <td>0</td>\n",
       "      <td>...</td>\n",
       "      <td>3</td>\n",
       "      <td>0</td>\n",
       "      <td>0</td>\n",
       "      <td>0</td>\n",
       "      <td>0</td>\n",
       "      <td>1</td>\n",
       "      <td>0</td>\n",
       "      <td>0</td>\n",
       "      <td>0</td>\n",
       "      <td>0</td>\n",
       "    </tr>\n",
       "    <tr>\n",
       "      <th>4</th>\n",
       "      <td>3</td>\n",
       "      <td>0</td>\n",
       "      <td>0</td>\n",
       "      <td>0</td>\n",
       "      <td>0</td>\n",
       "      <td>0</td>\n",
       "      <td>0</td>\n",
       "      <td>0</td>\n",
       "      <td>0</td>\n",
       "      <td>0</td>\n",
       "      <td>...</td>\n",
       "      <td>0</td>\n",
       "      <td>0</td>\n",
       "      <td>0</td>\n",
       "      <td>0</td>\n",
       "      <td>0</td>\n",
       "      <td>0</td>\n",
       "      <td>0</td>\n",
       "      <td>0</td>\n",
       "      <td>0</td>\n",
       "      <td>0</td>\n",
       "    </tr>\n",
       "  </tbody>\n",
       "</table>\n",
       "<p>5 rows × 785 columns</p>\n",
       "</div>"
      ],
      "text/plain": [
       "   label  pixel1  pixel2  pixel3  pixel4  pixel5  pixel6  pixel7  pixel8  \\\n",
       "0      2       0       0       0       0       0       0       0       0   \n",
       "1      9       0       0       0       0       0       0       0       0   \n",
       "2      6       0       0       0       0       0       0       0       5   \n",
       "3      0       0       0       0       1       2       0       0       0   \n",
       "4      3       0       0       0       0       0       0       0       0   \n",
       "\n",
       "   pixel9    ...     pixel775  pixel776  pixel777  pixel778  pixel779  \\\n",
       "0       0    ...            0         0         0         0         0   \n",
       "1       0    ...            0         0         0         0         0   \n",
       "2       0    ...            0         0         0        30        43   \n",
       "3       0    ...            3         0         0         0         0   \n",
       "4       0    ...            0         0         0         0         0   \n",
       "\n",
       "   pixel780  pixel781  pixel782  pixel783  pixel784  \n",
       "0         0         0         0         0         0  \n",
       "1         0         0         0         0         0  \n",
       "2         0         0         0         0         0  \n",
       "3         1         0         0         0         0  \n",
       "4         0         0         0         0         0  \n",
       "\n",
       "[5 rows x 785 columns]"
      ]
     },
     "execution_count": 7,
     "metadata": {},
     "output_type": "execute_result"
    }
   ],
   "source": [
    "data_train.head()"
   ]
  },
  {
   "cell_type": "code",
   "execution_count": 8,
   "metadata": {
    "collapsed": true
   },
   "outputs": [],
   "source": [
    "clothes = {0: 'T-shirt/top',\n",
    "           1: 'Trouser',\n",
    "           2: 'Pullover',\n",
    "           3: 'Dress',\n",
    "           4: 'Coat',\n",
    "           5: 'Sandal',\n",
    "           6: 'Shirt',\n",
    "           7: 'Sneaker',\n",
    "           8: 'Bag',\n",
    "           9: 'Ankle boot'}"
   ]
  },
  {
   "cell_type": "code",
   "execution_count": 9,
   "metadata": {},
   "outputs": [
    {
     "data": {
      "image/png": "[encoded data removed]",
      "text/plain": [
       "<matplotlib.figure.Figure at 0x3f819f78d0>"
      ]
     },
     "metadata": {},
     "output_type": "display_data"
    }
   ],
   "source": [
    "fig, axes = plt.subplots(3, 4,figsize=(10,10))\n",
    "for row in axes:\n",
    "    for axe in row:\n",
    "        index = np.random.randint(10000)\n",
    "        img = data_train.iloc[index, 1:].values.reshape((28, 28))\n",
    "        obj = data_train.iloc[index, 0]\n",
    "        axe.imshow(img, cmap='gray')\n",
    "        axe.set_title(clothes[obj])\n",
    "        plt.tight_layout()"
   ]
  },
  {
   "cell_type": "code",
   "execution_count": 10,
   "metadata": {
    "collapsed": true
   },
   "outputs": [],
   "source": [
    "X = data_train.iloc[:,1:].values\n",
    "y = data_train.iloc[:,0].values\n",
    "y = to_categorical(y)"
   ]
  },
  {
   "cell_type": "code",
   "execution_count": 11,
   "metadata": {
    "collapsed": true
   },
   "outputs": [],
   "source": [
    "from sklearn.model_selection import train_test_split"
   ]
  },
  {
   "cell_type": "code",
   "execution_count": 12,
   "metadata": {
    "collapsed": true
   },
   "outputs": [],
   "source": [
    "X_train, X_val, y_train, y_val = train_test_split(X, y, test_size=0.2, random_state=101)"
   ]
  },
  {
   "cell_type": "code",
   "execution_count": 64,
   "metadata": {
    "collapsed": true
   },
   "outputs": [],
   "source": [
    "X_test = data_test.iloc[:,1:].values\n",
    "y_test = data_test.iloc[:,0]\n",
    "y_test  = to_categorical(y_test)"
   ]
  },
  {
   "cell_type": "markdown",
   "metadata": {},
   "source": [
    "## Reshaping Data +  Normalization "
   ]
  },
  {
   "cell_type": "code",
   "execution_count": 14,
   "metadata": {},
   "outputs": [
    {
     "name": "stdout",
     "output_type": "stream",
     "text": [
      "(48000, 784)\n",
      "(12000, 784)\n",
      "(10000, 784)\n"
     ]
    }
   ],
   "source": [
    "print(X_train.shape)\n",
    "print(X_val.shape)\n",
    "print(X_test.shape)"
   ]
  },
  {
   "cell_type": "code",
   "execution_count": 67,
   "metadata": {
    "collapsed": true
   },
   "outputs": [],
   "source": [
    "X_train = X_train.reshape(X_train.shape[0], img_rows, img_cols, 1)\n",
    "X_val = X_val.reshape(X_val.shape[0], img_rows, img_cols, 1)\n",
    "X_test = X_test.reshape(X_test.shape[0], img_rows, img_cols, 1)\n",
    "\n",
    "\n",
    "X_train = X_train.astype('float32')\n",
    "X_val = X_val.astype('float32')\n",
    "X_test = X_test.astype('float32')\n",
    "\n",
    "X_train = X_train  / 255\n",
    "X_val   = X_val   / 255\n",
    "X_test  = X_test / 255"
   ]
  },
  {
   "cell_type": "code",
   "execution_count": 16,
   "metadata": {},
   "outputs": [
    {
     "name": "stdout",
     "output_type": "stream",
     "text": [
      "(48000, 28, 28, 1)\n",
      "(12000, 28, 28, 1)\n",
      "(10000, 28, 28, 1)\n"
     ]
    }
   ],
   "source": [
    "print(X_train.shape)\n",
    "print(X_val.shape)\n",
    "print(X_test.shape)"
   ]
  },
  {
   "cell_type": "code",
   "execution_count": 17,
   "metadata": {},
   "outputs": [
    {
     "data": {
      "text/plain": [
       "(1.0, 1.0, 1.0)"
      ]
     },
     "execution_count": 17,
     "metadata": {},
     "output_type": "execute_result"
    }
   ],
   "source": [
    "X_train.max(),X_val.max(), X_test.max()"
   ]
  },
  {
   "cell_type": "code",
   "execution_count": 18,
   "metadata": {},
   "outputs": [
    {
     "data": {
      "text/plain": [
       "(0.0, 0.0, 0.0)"
      ]
     },
     "execution_count": 18,
     "metadata": {},
     "output_type": "execute_result"
    }
   ],
   "source": [
    "X_train.min(),X_val.min(), X_test.min()"
   ]
  },
  {
   "cell_type": "markdown",
   "metadata": {},
   "source": [
    "# Model Architecture\n",
    "\n",
    "## Now we need to follow the following steps:\n",
    "    \n",
    "    1. Convolution \n",
    "    2. Max Pooling\n",
    "    3. Convolution\n",
    "    4. Max pooling\n",
    "    5. Dropout\n",
    "    6  Flattening\n",
    "    7. Full Connection (Dense)\n",
    "    8. Dropout\n",
    "    9. Full Connection\n"
   ]
  },
  {
   "cell_type": "code",
   "execution_count": 19,
   "metadata": {},
   "outputs": [
    {
     "name": "stderr",
     "output_type": "stream",
     "text": [
      "C:\\Users\\agebresi\\AppData\\Local\\Continuum\\Anaconda3\\lib\\site-packages\\ipykernel_launcher.py:11: UserWarning: Update your `Dense` call to the Keras 2 API: `Dense(activation=\"relu\", units=128)`\n",
      "  # This is added back by InteractiveShellApp.init_path()\n",
      "C:\\Users\\agebresi\\AppData\\Local\\Continuum\\Anaconda3\\lib\\site-packages\\ipykernel_launcher.py:13: UserWarning: Update your `Dense` call to the Keras 2 API: `Dense(activation=\"softmax\", units=10)`\n",
      "  del sys.path[0]\n"
     ]
    }
   ],
   "source": [
    "model = Sequential()\n",
    "model.add(Convolution2D(filters= nb_filters,kernel_size=(kernel_size,kernel_size),input_shape = input_shape,activation='relu'))\n",
    "model.add(MaxPooling2D(pool_size=(pool_size,pool_size)))\n",
    "\n",
    "model.add(Convolution2D(filters=nb_filters, kernel_size=(kernel_size,kernel_size),activation='relu'))\n",
    "model.add(MaxPooling2D(pool_size=(pool_size,pool_size)))\n",
    "\n",
    "model.add(Dropout(0.25))\n",
    "model.add(Flatten())\n",
    "\n",
    "model.add(Dense(output_dim = 128 , activation=\"relu\"))\n",
    "model.add(Dropout(0.5))\n",
    "model.add(Dense(output_dim = nb_classes, activation='softmax'))\n",
    "model.compile(loss = 'categorical_crossentropy', optimizer = 'adam', metrics = ['accuracy'])\n",
    "\n",
    "#model.compile(loss = keras.losses.categorical_crossentropy, optimizer= keras.optimizers.adam(), metrics = ['accuracy'])"
   ]
  },
  {
   "cell_type": "code",
   "execution_count": 20,
   "metadata": {},
   "outputs": [
    {
     "name": "stdout",
     "output_type": "stream",
     "text": [
      "_________________________________________________________________\n",
      "Layer (type)                 Output Shape              Param #   \n",
      "=================================================================\n",
      "conv2d_1 (Conv2D)            (None, 26, 26, 32)        320       \n",
      "_________________________________________________________________\n",
      "max_pooling2d_1 (MaxPooling2 (None, 13, 13, 32)        0         \n",
      "_________________________________________________________________\n",
      "conv2d_2 (Conv2D)            (None, 11, 11, 32)        9248      \n",
      "_________________________________________________________________\n",
      "max_pooling2d_2 (MaxPooling2 (None, 5, 5, 32)          0         \n",
      "_________________________________________________________________\n",
      "dropout_1 (Dropout)          (None, 5, 5, 32)          0         \n",
      "_________________________________________________________________\n",
      "flatten_1 (Flatten)          (None, 800)               0         \n",
      "_________________________________________________________________\n",
      "dense_1 (Dense)              (None, 128)               102528    \n",
      "_________________________________________________________________\n",
      "dropout_2 (Dropout)          (None, 128)               0         \n",
      "_________________________________________________________________\n",
      "dense_2 (Dense)              (None, 10)                1290      \n",
      "=================================================================\n",
      "Total params: 113,386\n",
      "Trainable params: 113,386\n",
      "Non-trainable params: 0\n",
      "_________________________________________________________________\n",
      "None\n"
     ]
    }
   ],
   "source": [
    "print(model.summary())"
   ]
  },
  {
   "cell_type": "code",
   "execution_count": 21,
   "metadata": {},
   "outputs": [
    {
     "name": "stdout",
     "output_type": "stream",
     "text": [
      "Train on 48000 samples, validate on 12000 samples\n",
      "Epoch 1/50\n",
      "48000/48000 [==============================] - 29s - loss: 0.6432 - acc: 0.7668 - val_loss: 0.4000 - val_acc: 0.8521\n",
      "Epoch 2/50\n",
      "48000/48000 [==============================] - 28s - loss: 0.4405 - acc: 0.8391 - val_loss: 0.3499 - val_acc: 0.8697\n",
      "Epoch 3/50\n",
      "48000/48000 [==============================] - 28s - loss: 0.3869 - acc: 0.8594 - val_loss: 0.3297 - val_acc: 0.8792\n",
      "Epoch 4/50\n",
      "48000/48000 [==============================] - 28s - loss: 0.3580 - acc: 0.8700 - val_loss: 0.2996 - val_acc: 0.8909\n",
      "Epoch 5/50\n",
      "48000/48000 [==============================] - 28s - loss: 0.3310 - acc: 0.8764 - val_loss: 0.2853 - val_acc: 0.8928\n",
      "Epoch 6/50\n",
      "48000/48000 [==============================] - 28s - loss: 0.3204 - acc: 0.8833 - val_loss: 0.2917 - val_acc: 0.8925\n",
      "Epoch 7/50\n",
      "48000/48000 [==============================] - 28s - loss: 0.3085 - acc: 0.8870 - val_loss: 0.2756 - val_acc: 0.8974\n",
      "Epoch 8/50\n",
      "48000/48000 [==============================] - 28s - loss: 0.2986 - acc: 0.8904 - val_loss: 0.2643 - val_acc: 0.9054\n",
      "Epoch 9/50\n",
      "48000/48000 [==============================] - 28s - loss: 0.2848 - acc: 0.8935 - val_loss: 0.2572 - val_acc: 0.9072\n",
      "Epoch 10/50\n",
      "48000/48000 [==============================] - 28s - loss: 0.2841 - acc: 0.8948 - val_loss: 0.2573 - val_acc: 0.9050\n",
      "Epoch 11/50\n",
      "48000/48000 [==============================] - 28s - loss: 0.2741 - acc: 0.8985 - val_loss: 0.2584 - val_acc: 0.9037\n",
      "Epoch 12/50\n",
      "48000/48000 [==============================] - 28s - loss: 0.2702 - acc: 0.9009 - val_loss: 0.2496 - val_acc: 0.9109\n",
      "Epoch 13/50\n",
      "48000/48000 [==============================] - 28s - loss: 0.2638 - acc: 0.9021 - val_loss: 0.2533 - val_acc: 0.9065\n",
      "Epoch 14/50\n",
      "48000/48000 [==============================] - 28s - loss: 0.2599 - acc: 0.9037 - val_loss: 0.2483 - val_acc: 0.9105\n",
      "Epoch 15/50\n",
      "48000/48000 [==============================] - 28s - loss: 0.2539 - acc: 0.9056 - val_loss: 0.2457 - val_acc: 0.9087\n",
      "Epoch 16/50\n",
      "48000/48000 [==============================] - 28s - loss: 0.2499 - acc: 0.9069 - val_loss: 0.2561 - val_acc: 0.9101\n",
      "Epoch 17/50\n",
      "48000/48000 [==============================] - 29s - loss: 0.2462 - acc: 0.9079 - val_loss: 0.2527 - val_acc: 0.9110\n",
      "Epoch 18/50\n",
      "48000/48000 [==============================] - 28s - loss: 0.2418 - acc: 0.9090 - val_loss: 0.2496 - val_acc: 0.9107\n",
      "Epoch 19/50\n",
      "48000/48000 [==============================] - 29s - loss: 0.2395 - acc: 0.9100 - val_loss: 0.2457 - val_acc: 0.9135\n",
      "Epoch 20/50\n",
      "48000/48000 [==============================] - 28s - loss: 0.2366 - acc: 0.9113 - val_loss: 0.2373 - val_acc: 0.9145\n",
      "Epoch 21/50\n",
      "48000/48000 [==============================] - 28s - loss: 0.2312 - acc: 0.9135 - val_loss: 0.2458 - val_acc: 0.9142\n",
      "Epoch 22/50\n",
      "48000/48000 [==============================] - 29s - loss: 0.2288 - acc: 0.9147 - val_loss: 0.2472 - val_acc: 0.9127\n",
      "Epoch 23/50\n",
      "48000/48000 [==============================] - 28s - loss: 0.2251 - acc: 0.9153 - val_loss: 0.2444 - val_acc: 0.9128\n",
      "Epoch 24/50\n",
      "48000/48000 [==============================] - 29s - loss: 0.2241 - acc: 0.9151 - val_loss: 0.2430 - val_acc: 0.9142\n",
      "Epoch 25/50\n",
      "48000/48000 [==============================] - 28s - loss: 0.2214 - acc: 0.9162 - val_loss: 0.2499 - val_acc: 0.9147\n",
      "Epoch 26/50\n",
      "48000/48000 [==============================] - 29s - loss: 0.2180 - acc: 0.9176 - val_loss: 0.2544 - val_acc: 0.9116\n",
      "Epoch 27/50\n",
      "48000/48000 [==============================] - 29s - loss: 0.2197 - acc: 0.9168 - val_loss: 0.2489 - val_acc: 0.9144\n",
      "Epoch 28/50\n",
      "48000/48000 [==============================] - 29s - loss: 0.2162 - acc: 0.9182 - val_loss: 0.2496 - val_acc: 0.9132\n",
      "Epoch 29/50\n",
      "48000/48000 [==============================] - 29s - loss: 0.2127 - acc: 0.9198 - val_loss: 0.2380 - val_acc: 0.9170\n",
      "Epoch 30/50\n",
      "48000/48000 [==============================] - 29s - loss: 0.2109 - acc: 0.9201 - val_loss: 0.2439 - val_acc: 0.9142\n",
      "Epoch 31/50\n",
      "48000/48000 [==============================] - 29s - loss: 0.2108 - acc: 0.9198 - val_loss: 0.2512 - val_acc: 0.9115\n",
      "Epoch 32/50\n",
      "48000/48000 [==============================] - 29s - loss: 0.2067 - acc: 0.9217 - val_loss: 0.2543 - val_acc: 0.9113\n",
      "Epoch 33/50\n",
      "48000/48000 [==============================] - 29s - loss: 0.2098 - acc: 0.9198 - val_loss: 0.2448 - val_acc: 0.9165\n",
      "Epoch 34/50\n",
      "48000/48000 [==============================] - 29s - loss: 0.2058 - acc: 0.9218 - val_loss: 0.2452 - val_acc: 0.9180\n",
      "Epoch 35/50\n",
      "48000/48000 [==============================] - 29s - loss: 0.2060 - acc: 0.9231 - val_loss: 0.2472 - val_acc: 0.9152\n",
      "Epoch 36/50\n",
      "48000/48000 [==============================] - 29s - loss: 0.2017 - acc: 0.9226 - val_loss: 0.2447 - val_acc: 0.9175\n",
      "Epoch 37/50\n",
      "48000/48000 [==============================] - 29s - loss: 0.2013 - acc: 0.9238 - val_loss: 0.2505 - val_acc: 0.9146\n",
      "Epoch 38/50\n",
      "48000/48000 [==============================] - 29s - loss: 0.1987 - acc: 0.9241 - val_loss: 0.2512 - val_acc: 0.9153\n",
      "Epoch 39/50\n",
      "48000/48000 [==============================] - 30s - loss: 0.1997 - acc: 0.9232 - val_loss: 0.2613 - val_acc: 0.9127\n",
      "Epoch 40/50\n",
      "48000/48000 [==============================] - 29s - loss: 0.1941 - acc: 0.9260 - val_loss: 0.2508 - val_acc: 0.9129\n",
      "Epoch 41/50\n",
      "48000/48000 [==============================] - 29s - loss: 0.1957 - acc: 0.9264 - val_loss: 0.2514 - val_acc: 0.9153\n",
      "Epoch 42/50\n",
      "48000/48000 [==============================] - 30s - loss: 0.1923 - acc: 0.9264 - val_loss: 0.2446 - val_acc: 0.9174\n",
      "Epoch 43/50\n",
      "48000/48000 [==============================] - 29s - loss: 0.1931 - acc: 0.9275 - val_loss: 0.2439 - val_acc: 0.9177\n",
      "Epoch 44/50\n",
      "48000/48000 [==============================] - 29s - loss: 0.1910 - acc: 0.9278 - val_loss: 0.2504 - val_acc: 0.9181\n",
      "Epoch 45/50\n",
      "48000/48000 [==============================] - 29s - loss: 0.1912 - acc: 0.9264 - val_loss: 0.2511 - val_acc: 0.9183\n",
      "Epoch 46/50\n",
      "48000/48000 [==============================] - 29s - loss: 0.1921 - acc: 0.9273 - val_loss: 0.2613 - val_acc: 0.9133\n",
      "Epoch 47/50\n",
      "48000/48000 [==============================] - 30s - loss: 0.1897 - acc: 0.9284 - val_loss: 0.2530 - val_acc: 0.9130\n",
      "Epoch 48/50\n",
      "48000/48000 [==============================] - 31s - loss: 0.1872 - acc: 0.9290 - val_loss: 0.2601 - val_acc: 0.9180\n",
      "Epoch 49/50\n",
      "48000/48000 [==============================] - 30s - loss: 0.1854 - acc: 0.9296 - val_loss: 0.2657 - val_acc: 0.9132\n",
      "Epoch 50/50\n",
      "48000/48000 [==============================] - 32s - loss: 0.1837 - acc: 0.9278 - val_loss: 0.2664 - val_acc: 0.9147\n",
      "1465.7929389476776\n"
     ]
    }
   ],
   "source": [
    "import time\n",
    "start_time = time.time()\n",
    "\n",
    "training_history =model.fit(X_train,y_train,batch_size= batch_size, epochs = nb_ephochs, verbose=1, validation_data=(X_val, y_val))\n",
    "\n",
    "training_time = time.time() - start_time\n",
    "print(training_time)"
   ]
  },
  {
   "cell_type": "code",
   "execution_count": 25,
   "metadata": {},
   "outputs": [
    {
     "name": "stdout",
     "output_type": "stream",
     "text": [
      "<class 'keras.callbacks.History'>\n"
     ]
    }
   ],
   "source": [
    "print(type(training_history))"
   ]
  },
  {
   "cell_type": "code",
   "execution_count": 26,
   "metadata": {},
   "outputs": [
    {
     "data": {
      "text/plain": [
       "1465.7929389476776"
      ]
     },
     "execution_count": 26,
     "metadata": {},
     "output_type": "execute_result"
    }
   ],
   "source": [
    "training_time"
   ]
  },
  {
   "cell_type": "code",
   "execution_count": 30,
   "metadata": {},
   "outputs": [
    {
     "data": {
      "text/plain": [
       "dict_keys(['val_loss', 'val_acc', 'loss', 'acc'])"
      ]
     },
     "execution_count": 30,
     "metadata": {},
     "output_type": "execute_result"
    }
   ],
   "source": [
    "training_history.history.keys()"
   ]
  },
  {
   "cell_type": "code",
   "execution_count": 31,
   "metadata": {},
   "outputs": [],
   "source": [
    "training_accuracy   = training_history.history['acc']\n",
    "validation_accuracy = training_history.history['val_acc']\n",
    "\n",
    "training_loss       = training_history.history['loss']\n",
    "validation_loss     = training_history.history['val_loss']\n"
   ]
  },
  {
   "cell_type": "code",
   "execution_count": 58,
   "metadata": {},
   "outputs": [
    {
     "data": {
      "text/plain": [
       "<matplotlib.text.Text at 0x3fbf7074e0>"
      ]
     },
     "execution_count": 58,
     "metadata": {},
     "output_type": "execute_result"
    },
    {
     "data": {
      "image/png": "[encoded data removed]",
      "text/plain": [
       "<matplotlib.figure.Figure at 0x3fc07bf668>"
      ]
     },
     "metadata": {},
     "output_type": "display_data"
    }
   ],
   "source": [
    "fig, axes = plt.subplots(nrows=1, ncols=2,figsize=(20,6))\n",
    "\n",
    "axes[0].plot(training_accuracy,'b')\n",
    "axes[0].plot(validation_accuracy,'r')\n",
    "axes[0].legend(['training_acc', 'validation_acc'])\n",
    "axes[0].set_xlabel('No of Epoch')\n",
    "axes[0].set_ylabel('Accuracy')\n",
    "\n",
    "axes[1].plot(training_loss,'b')\n",
    "axes[1].plot(validation_loss,'r')\n",
    "axes[1].legend(['training_loss', 'validation_loss'])\n",
    "axes[1].set_xlabel('No of Epoch')\n",
    "axes[1].set_ylabel('Loss')"
   ]
  },
  {
   "cell_type": "code",
   "execution_count": 62,
   "metadata": {},
   "outputs": [
    {
     "name": "stdout",
     "output_type": "stream",
     "text": [
      "24.0 24.429882315794625\n"
     ]
    }
   ],
   "source": [
    "print(training_time // 60,training_time/60)"
   ]
  },
  {
   "cell_type": "markdown",
   "metadata": {},
   "source": [
    "# Model Evaluation"
   ]
  },
  {
   "cell_type": "code",
   "execution_count": 69,
   "metadata": {},
   "outputs": [
    {
     "name": "stdout",
     "output_type": "stream",
     "text": [
      " 9888/10000 [============================>.] - ETA: 0s"
     ]
    }
   ],
   "source": [
    "score = model.evaluate(X_test, y_test, verbose=1)"
   ]
  },
  {
   "cell_type": "code",
   "execution_count": 71,
   "metadata": {},
   "outputs": [
    {
     "data": {
      "text/plain": [
       "[0.24394725968837738, 0.92000000000000004]"
      ]
     },
     "execution_count": 71,
     "metadata": {},
     "output_type": "execute_result"
    }
   ],
   "source": [
    "score"
   ]
  },
  {
   "cell_type": "code",
   "execution_count": 78,
   "metadata": {},
   "outputs": [
    {
     "name": "stdout",
     "output_type": "stream",
     "text": [
      "Test loss: 0.24394725968837738  \n",
      " Test Accuracy: 92.0 %\n"
     ]
    }
   ],
   "source": [
    "print('Test loss: {}  \\n Test Accuracy: {} %'.format(score[0],score[1]*100))\n"
   ]
  }
 ],
 "metadata": {
  "kernelspec": {
   "display_name": "Python 3",
   "language": "python",
   "name": "python3"
  },
  "language_info": {
   "codemirror_mode": {
    "name": "ipython",
    "version": 3
   },
   "file_extension": ".py",
   "mimetype": "text/x-python",
   "name": "python",
   "nbconvert_exporter": "python",
   "pygments_lexer": "ipython3",
   "version": "3.6.1"
  },
  "nav_menu": {},
  "toc": {
   "navigate_menu": true,
   "number_sections": true,
   "sideBar": true,
   "threshold": 6,
   "toc_cell": false,
   "toc_section_display": "block",
   "toc_window_display": false
  }
 },
 "nbformat": 4,
 "nbformat_minor": 2
}
